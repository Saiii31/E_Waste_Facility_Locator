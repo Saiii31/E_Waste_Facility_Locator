{
 "cells": [
  {
   "cell_type": "code",
   "execution_count": null,
   "id": "40f7a28a-03b4-45c8-ae87-f9a5754ab329",
   "metadata": {},
   "outputs": [
    {
     "name": "stdout",
     "output_type": "stream",
     "text": [
      "{'Camera': 0, 'Keyboards': 1, 'Laptop': 2, 'Microwave': 3, 'Mobile': 4, 'Mouses': 5, 'Smartwatch': 6, 'TV': 7}\n",
      "['Camera', 'Keyboards', 'Laptop', 'Microwave', 'Mobile', 'Mouses', 'Smartwatch', 'TV']\n",
      "[0, 1, 2, 3, 4, 5, 6, 7]\n"
     ]
    }
   ],
   "source": [
    "import cv2,os\n",
    "data_path=r'D:\\VIT\\SEM 3\\WT\\E-Waste-Facility-Locator-Final\\train'\n",
    "categories=os.listdir(data_path)\n",
    "labels=[i for i in range(len(categories))]\n",
    "\n",
    "label_dict=dict(zip(categories,labels)) #empty dictionary\n",
    "print(label_dict)\n",
    "print(categories)\n",
    "print(labels)"
   ]
  },
  {
   "cell_type": "code",
   "execution_count": 3,
   "id": "8895b70f-9233-45a0-8f73-64128c32204a",
   "metadata": {},
   "outputs": [],
   "source": [
    "img_size=100\n",
    "data=[]\n",
    "target=[]\n",
    "\n",
    "for category in categories:\n",
    "    folder_path=os.path.join(data_path,category)\n",
    "    img_names=os.listdir(folder_path)\n",
    "        \n",
    "    for img_name in img_names:\n",
    "        img_path=os.path.join(folder_path,img_name)\n",
    "        img=cv2.imread(img_path)\n",
    "\n",
    "        try:  \n",
    "            resized=cv2.resize(img,(img_size,img_size))\n",
    "            #resizing the image  into 100x100, since we need a fixed common size for all the images in the dataset\n",
    "            data.append(resized)\n",
    "            target.append(label_dict[category])\n",
    "            #appending the image and the label(categorized) into the list (dataset)\n",
    "        except Exception as e:\n",
    "            print('Exception:',e)\n",
    "            #if any exception rasied, the exception will be printed here. And pass to the next image"
   ]
  },
  {
   "cell_type": "code",
   "execution_count": 4,
   "id": "5c500b1c-1896-4d6c-a690-da67103bedec",
   "metadata": {},
   "outputs": [],
   "source": [
    "import numpy as np\n",
    "data=np.array(data)/255.0\n",
    "data=np.reshape(data,(data.shape[0],img_size,img_size,3))\n",
    "target=np.array(target)\n",
    "import keras.utils\n",
    "new_target=keras.utils.to_categorical(target)"
   ]
  },
  {
   "cell_type": "code",
   "execution_count": 5,
   "id": "889bd5af-1231-427d-956b-748150f3edac",
   "metadata": {},
   "outputs": [
    {
     "data": {
      "text/plain": [
       "(887, 8)"
      ]
     },
     "execution_count": 5,
     "metadata": {},
     "output_type": "execute_result"
    }
   ],
   "source": [
    "new_target.shape"
   ]
  },
  {
   "cell_type": "code",
   "execution_count": 6,
   "id": "b6487bf3-79f4-41dd-adbf-fc98cd9cf898",
   "metadata": {},
   "outputs": [
    {
     "data": {
      "text/plain": [
       "(887, 100, 100, 3)"
      ]
     },
     "execution_count": 6,
     "metadata": {},
     "output_type": "execute_result"
    }
   ],
   "source": [
    "data.shape"
   ]
  },
  {
   "cell_type": "code",
   "execution_count": 7,
   "id": "1240fe06-de68-4fb6-8837-d2c09ec80cc1",
   "metadata": {},
   "outputs": [
    {
     "data": {
      "text/plain": [
       "(100, 100, 3)"
      ]
     },
     "execution_count": 7,
     "metadata": {},
     "output_type": "execute_result"
    }
   ],
   "source": [
    "data.shape[1:]"
   ]
  },
  {
   "cell_type": "code",
   "execution_count": 8,
   "id": "b6b0865a-091f-44c9-a104-8fe8e4831ac0",
   "metadata": {},
   "outputs": [],
   "source": [
    "from keras.models import Sequential\n",
    "from keras.layers import Dense,Activation,Flatten,Dropout\n",
    "from keras.layers import Conv2D,MaxPooling2D\n",
    "from keras.callbacks import ModelCheckpoint\n",
    "\n",
    "model=Sequential()\n",
    "\n",
    "model.add(Conv2D(200,(3,3),input_shape=data.shape[1:]))\n",
    "model.add(Activation('relu'))\n",
    "model.add(MaxPooling2D(pool_size=(2,2)))\n",
    "#The first CNN layer followed by Relu and MaxPooling layers\n",
    "\n",
    "model.add(Conv2D(100,(3,3)))\n",
    "model.add(Activation('relu'))\n",
    "model.add(MaxPooling2D(pool_size=(2,2)))\n",
    "#The second convolution layer followed by Relu and MaxPooling layers\n",
    "\n",
    "model.add(Flatten())\n",
    "model.add(Dropout(0.5))\n",
    "#Flatten layer to stack the output convolutions from second convolution layer\n",
    "model.add(Dense(50,activation='relu'))\n",
    "#Dense layer of 64 neurons\n",
    "model.add(Dense(8,activation='softmax'))\n",
    "#The Final layer with two outputs for two categories\n",
    "\n",
    "model.compile(loss='categorical_crossentropy',optimizer='adam',metrics=['accuracy'])\n"
   ]
  },
  {
   "cell_type": "code",
   "execution_count": 9,
   "id": "d916e3a9-289a-494a-8582-f14e0981d619",
   "metadata": {},
   "outputs": [
    {
     "name": "stdout",
     "output_type": "stream",
     "text": [
      "Model: \"sequential\"\n",
      "_________________________________________________________________\n",
      " Layer (type)                Output Shape              Param #   \n",
      "=================================================================\n",
      " conv2d (Conv2D)             (None, 98, 98, 200)       5600      \n",
      "                                                                 \n",
      " activation (Activation)     (None, 98, 98, 200)       0         \n",
      "                                                                 \n",
      " max_pooling2d (MaxPooling2  (None, 49, 49, 200)       0         \n",
      " D)                                                              \n",
      "                                                                 \n",
      " conv2d_1 (Conv2D)           (None, 47, 47, 100)       180100    \n",
      "                                                                 \n",
      " activation_1 (Activation)   (None, 47, 47, 100)       0         \n",
      "                                                                 \n",
      " max_pooling2d_1 (MaxPoolin  (None, 23, 23, 100)       0         \n",
      " g2D)                                                            \n",
      "                                                                 \n",
      " flatten (Flatten)           (None, 52900)             0         \n",
      "                                                                 \n",
      " dropout (Dropout)           (None, 52900)             0         \n",
      "                                                                 \n",
      " dense (Dense)               (None, 50)                2645050   \n",
      "                                                                 \n",
      " dense_1 (Dense)             (None, 8)                 408       \n",
      "                                                                 \n",
      "=================================================================\n",
      "Total params: 2831158 (10.80 MB)\n",
      "Trainable params: 2831158 (10.80 MB)\n",
      "Non-trainable params: 0 (0.00 Byte)\n",
      "_________________________________________________________________\n"
     ]
    }
   ],
   "source": [
    "model.summary()"
   ]
  },
  {
   "cell_type": "code",
   "execution_count": 10,
   "id": "bb15e667-4dbe-40ed-8c64-2e15ffc6848c",
   "metadata": {},
   "outputs": [],
   "source": [
    "from sklearn.model_selection import train_test_split\n",
    "train_data,test_data,train_target,test_target=train_test_split(data,new_target,test_size=0.1)"
   ]
  },
  {
   "cell_type": "code",
   "execution_count": 11,
   "id": "dacf325e-2b13-44b9-8913-7a7ec7c75c5e",
   "metadata": {},
   "outputs": [
    {
     "data": {
      "text/plain": [
       "(798, 100, 100, 3)"
      ]
     },
     "execution_count": 11,
     "metadata": {},
     "output_type": "execute_result"
    }
   ],
   "source": [
    "train_data.shape"
   ]
  },
  {
   "cell_type": "code",
   "execution_count": 12,
   "id": "5d73cb8c-7dd2-4ee9-a06c-2e2d30946a37",
   "metadata": {},
   "outputs": [
    {
     "data": {
      "text/plain": [
       "(798, 8)"
      ]
     },
     "execution_count": 12,
     "metadata": {},
     "output_type": "execute_result"
    }
   ],
   "source": [
    "train_target.shape"
   ]
  },
  {
   "cell_type": "code",
   "execution_count": 13,
   "id": "fb5563ef-4128-41ee-a558-413022a1cc03",
   "metadata": {},
   "outputs": [
    {
     "name": "stdout",
     "output_type": "stream",
     "text": [
      "Epoch 1/20\n",
      "20/20 [==============================] - 42s 2s/step - loss: 2.0869 - accuracy: 0.1881 - val_loss: 1.9422 - val_accuracy: 0.1813\n",
      "Epoch 2/20\n",
      "20/20 [==============================] - 40s 2s/step - loss: 1.7069 - accuracy: 0.3793 - val_loss: 1.5637 - val_accuracy: 0.4500\n",
      "Epoch 3/20\n",
      "20/20 [==============================] - 39s 2s/step - loss: 1.3341 - accuracy: 0.5376 - val_loss: 1.2706 - val_accuracy: 0.5688\n",
      "Epoch 4/20\n",
      "20/20 [==============================] - 39s 2s/step - loss: 1.0516 - accuracy: 0.6270 - val_loss: 1.3622 - val_accuracy: 0.5437\n",
      "Epoch 5/20\n",
      "20/20 [==============================] - 40s 2s/step - loss: 0.6983 - accuracy: 0.7821 - val_loss: 1.3227 - val_accuracy: 0.6250\n",
      "Epoch 6/20\n",
      "20/20 [==============================] - 40s 2s/step - loss: 0.5553 - accuracy: 0.8103 - val_loss: 1.3942 - val_accuracy: 0.5813\n",
      "Epoch 7/20\n",
      "20/20 [==============================] - 39s 2s/step - loss: 0.3690 - accuracy: 0.8762 - val_loss: 1.3884 - val_accuracy: 0.6500\n",
      "Epoch 8/20\n",
      "20/20 [==============================] - 40s 2s/step - loss: 0.2624 - accuracy: 0.9232 - val_loss: 1.6364 - val_accuracy: 0.6687\n",
      "Epoch 9/20\n",
      "20/20 [==============================] - 40s 2s/step - loss: 0.1755 - accuracy: 0.9530 - val_loss: 1.6768 - val_accuracy: 0.6625\n",
      "Epoch 10/20\n",
      "20/20 [==============================] - 40s 2s/step - loss: 0.1069 - accuracy: 0.9718 - val_loss: 1.7968 - val_accuracy: 0.6625\n",
      "Epoch 11/20\n",
      "20/20 [==============================] - 44s 2s/step - loss: 0.0803 - accuracy: 0.9859 - val_loss: 1.8728 - val_accuracy: 0.6687\n",
      "Epoch 12/20\n",
      "20/20 [==============================] - 41s 2s/step - loss: 0.0408 - accuracy: 0.9922 - val_loss: 2.0594 - val_accuracy: 0.6625\n",
      "Epoch 13/20\n",
      "20/20 [==============================] - 43s 2s/step - loss: 0.0283 - accuracy: 0.9969 - val_loss: 2.2144 - val_accuracy: 0.6562\n",
      "Epoch 14/20\n",
      "20/20 [==============================] - 40s 2s/step - loss: 0.0331 - accuracy: 0.9937 - val_loss: 2.1905 - val_accuracy: 0.6687\n",
      "Epoch 15/20\n",
      "20/20 [==============================] - 40s 2s/step - loss: 0.0278 - accuracy: 0.9969 - val_loss: 2.2822 - val_accuracy: 0.6875\n",
      "Epoch 16/20\n",
      "20/20 [==============================] - 40s 2s/step - loss: 0.0263 - accuracy: 0.9922 - val_loss: 2.5079 - val_accuracy: 0.6875\n",
      "Epoch 17/20\n",
      "20/20 [==============================] - 40s 2s/step - loss: 0.0403 - accuracy: 0.9890 - val_loss: 2.3246 - val_accuracy: 0.6938\n",
      "Epoch 18/20\n",
      "20/20 [==============================] - 41s 2s/step - loss: 0.0265 - accuracy: 0.9922 - val_loss: 2.4704 - val_accuracy: 0.6875\n",
      "Epoch 19/20\n",
      "20/20 [==============================] - 40s 2s/step - loss: 0.0141 - accuracy: 0.9984 - val_loss: 2.2611 - val_accuracy: 0.7063\n",
      "Epoch 20/20\n",
      "20/20 [==============================] - 40s 2s/step - loss: 0.0251 - accuracy: 0.9937 - val_loss: 2.2788 - val_accuracy: 0.6687\n"
     ]
    }
   ],
   "source": [
    "# checkpoint = ModelCheckpoint('model-{epoch:03d}.model',monitor='val_loss',verbose=0,save_best_only=True,mode='auto')\n",
    "history=model.fit(train_data,train_target,epochs=20,validation_split=0.2)"
   ]
  },
  {
   "cell_type": "code",
   "execution_count": 14,
   "id": "800b66e7-3f54-4ddf-bf6c-8c0ba5f02a02",
   "metadata": {},
   "outputs": [
    {
     "name": "stderr",
     "output_type": "stream",
     "text": [
      "C:\\Users\\Isha\\AppData\\Local\\Programs\\Python\\Python311\\Lib\\site-packages\\keras\\src\\engine\\training.py:3079: UserWarning: You are saving your model as an HDF5 file via `model.save()`. This file format is considered legacy. We recommend using instead the native Keras format, e.g. `model.save('my_model.keras')`.\n",
      "  saving_api.save_model(\n"
     ]
    }
   ],
   "source": [
    "model.save('my_model.h5')"
   ]
  },
  {
   "cell_type": "code",
   "execution_count": 15,
   "id": "c1083a2a-1e14-40d5-9caf-53adc9c0fd32",
   "metadata": {},
   "outputs": [],
   "source": [
    "from matplotlib import pyplot as plt"
   ]
  },
  {
   "cell_type": "code",
   "execution_count": 16,
   "id": "1152e4ed-6ddb-4830-a2b4-f06e5af67884",
   "metadata": {},
   "outputs": [
    {
     "data": {
      "image/png": "[encoded data removed]",
      "text/plain": [
       "<Figure size 640x480 with 1 Axes>"
      ]
     },
     "metadata": {},
     "output_type": "display_data"
    }
   ],
   "source": [
    "# plot the training loss and accuracy\n",
    "N = 20\n",
    "plt.style.use(\"ggplot\")\n",
    "plt.figure()\n",
    "plt.plot(np.arange(0, N), history.history[\"loss\"], label=\"train_loss\")\n",
    "plt.plot(np.arange(0, N), history.history[\"val_loss\"], label=\"val_loss\")\n",
    "plt.plot(np.arange(0, N), history.history[\"accuracy\"], label=\"train_acc\")\n",
    "plt.plot(np.arange(0, N), history.history[\"val_accuracy\"], label=\"val_acc\")\n",
    "plt.title(\"Training Loss and Accuracy\")\n",
    "plt.xlabel(\"Epoch #\")\n",
    "plt.ylabel(\"Loss/Accuracy\")\n",
    "plt.legend(loc=\"center right\")\n",
    "plt.savefig(\"CNN_Model\")"
   ]
  },
  {
   "cell_type": "code",
   "execution_count": null,
   "id": "e652eeff-2452-442d-831e-1772567f749b",
   "metadata": {},
   "outputs": [],
   "source": []
  }
 ],
 "metadata": {
  "kernelspec": {
   "display_name": "Python 3 (ipykernel)",
   "language": "python",
   "name": "python3"
  },
  "language_info": {
   "codemirror_mode": {
    "name": "ipython",
    "version": 3
   },
   "file_extension": ".py",
   "mimetype": "text/x-python",
   "name": "python",
   "nbconvert_exporter": "python",
   "pygments_lexer": "ipython3",
   "version": "3.11.1"
  }
 },
 "nbformat": 4,
 "nbformat_minor": 5
}
